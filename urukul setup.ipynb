{
 "cells": [
  {
   "cell_type": "code",
   "execution_count": null,
   "id": "65545706",
   "metadata": {},
   "outputs": [],
   "source": [
    "from artiq.experiment import *\n",
    "\n",
    "class UrukulExperiment(EnvExperiment):\n",
    "    def build(self):\n",
    "        self.setattr_device(\"core\")\n",
    "        self.setattr_device(\"urukul0_ch0\")\n",
    "        self.setattr_device(\"urukul0_ch1\")\n",
    "\n",
    "        # Additional configuration for Urukul channels\n",
    "        self.urukul0_ch0.init()\n",
    "        self.urukul0_ch0.set_att(6.0 * dB)  # Set the attenuation (replace with your value)\n",
    "        self.urukul0_ch0.set(frequency=10 * MHz, phase=0.0)  # Set initial frequency and phase (replace with your values)\n",
    "\n",
    "        self.urukul0_ch1.init()\n",
    "        self.urukul0_ch1.set_att(6.0 * dB)  # Set the attenuation (replace with your value)\n",
    "        self.urukul0_ch1.set(frequency=10 * MHz, phase=0.25)  # Set initial frequency and phase (replace with your values)\n",
    "\n",
    "    @kernel\n",
    "    def run(self):\n",
    "        # Your experiment logic goes here\n",
    "        self.core.reset()\n",
    "        self.cpld.init()\n",
    "\n",
    "        # Additional operations with Urukul channels\n",
    "        self.urukul0_ch0.sw.on()  # Enable the output switch for channel 0\n",
    "        self.urukul0_ch1.sw.on()  # Enable the output switch for channel 1\n",
    "\n",
    "        # Set frequency and phase for channel 0\n",
    "        self.urukul0_ch0.set(frequency=20 * MHz, phase=0.5)\n",
    "\n",
    "        # Set frequency and phase for channel 1\n",
    "        self.urukul0_ch1.set(frequency=30 * MHz, phase=0.75)\n",
    "\n",
    "        # Perform other operations using Urukul channels\n"
   ]
  }
 ],
 "metadata": {
  "kernelspec": {
   "display_name": "Python 3 (ipykernel)",
   "language": "python",
   "name": "python3"
  },
  "language_info": {
   "codemirror_mode": {
    "name": "ipython",
    "version": 3
   },
   "file_extension": ".py",
   "mimetype": "text/x-python",
   "name": "python",
   "nbconvert_exporter": "python",
   "pygments_lexer": "ipython3",
   "version": "3.11.5"
  }
 },
 "nbformat": 4,
 "nbformat_minor": 5
}
